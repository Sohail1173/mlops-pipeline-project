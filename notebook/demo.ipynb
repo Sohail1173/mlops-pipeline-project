{
 "cells": [
  {
   "cell_type": "code",
   "execution_count": null,
   "id": "cb4d4ca1",
   "metadata": {},
   "outputs": [],
   "source": [
    "from sklearn.compose import ColumnTransformer\n",
    "from sklearn.preprocessing import OneHotEncoder\n",
    "import pandas as pd\n",
    "\n",
    "# Sample data\n",
    "# data = {'categorical_col': ['A', 'B', 'A', 'C'],\n",
    "#         'numerical_col': [10, 20, 15, 25]}\n",
    "# df = pd.DataFrame(data)\n",
    "df=pd.read_csv(r\"\")\n",
    "\n",
    "# Create ColumnTransformer\n",
    "preprocessor = ColumnTransformer(\n",
    "    transformers=[\n",
    "        ('cat', OneHotEncoder(), ['categorical_col'])\n",
    "    ])\n",
    "\n",
    "# Fit and transform in one step\n",
    "transformed_data = preprocessor.fit_transform(df)"
   ]
  },
  {
   "cell_type": "code",
   "execution_count": 2,
   "id": "8346a84b",
   "metadata": {},
   "outputs": [
    {
     "data": {
      "text/plain": [
       "array([[1., 0., 0.],\n",
       "       [0., 1., 0.],\n",
       "       [1., 0., 0.],\n",
       "       [0., 0., 1.]])"
      ]
     },
     "execution_count": 2,
     "metadata": {},
     "output_type": "execute_result"
    }
   ],
   "source": [
    "transformed_data"
   ]
  }
 ],
 "metadata": {
  "kernelspec": {
   "display_name": "mlops-p",
   "language": "python",
   "name": "python3"
  },
  "language_info": {
   "codemirror_mode": {
    "name": "ipython",
    "version": 3
   },
   "file_extension": ".py",
   "mimetype": "text/x-python",
   "name": "python",
   "nbconvert_exporter": "python",
   "pygments_lexer": "ipython3",
   "version": "3.11.13"
  }
 },
 "nbformat": 4,
 "nbformat_minor": 5
}
